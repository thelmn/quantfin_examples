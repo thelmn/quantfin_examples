{
 "cells": [
  {
   "cell_type": "code",
   "execution_count": 1,
   "metadata": {},
   "outputs": [],
   "source": [
    "import json\n",
    "import sys"
   ]
  },
  {
   "cell_type": "code",
   "execution_count": 3,
   "metadata": {},
   "outputs": [
    {
     "name": "stderr",
     "output_type": "stream",
     "text": [
      "2025-02-05 08:23:01.270298: E external/local_xla/xla/stream_executor/cuda/cuda_fft.cc:477] Unable to register cuFFT factory: Attempting to register factory for plugin cuFFT when one has already been registered\n",
      "WARNING: All log messages before absl::InitializeLog() is called are written to STDERR\n",
      "E0000 00:00:1738743781.287309   19363 cuda_dnn.cc:8310] Unable to register cuDNN factory: Attempting to register factory for plugin cuDNN when one has already been registered\n",
      "E0000 00:00:1738743781.292097   19363 cuda_blas.cc:1418] Unable to register cuBLAS factory: Attempting to register factory for plugin cuBLAS when one has already been registered\n"
     ]
    }
   ],
   "source": [
    "import numpy as np\n",
    "\n",
    "import matplotlib.pyplot as plt\n",
    "import seaborn as sns\n",
    "\n",
    "import jax\n",
    "import jax.numpy as jnp\n",
    "\n",
    "import distrax\n",
    "from distrax import HMM\n",
    "\n",
    "from dynamax.hidden_markov_model import CategoricalHMM\n",
    "\n",
    "import optax\n",
    "\n",
    "import tensorflow_probability as tfp\n",
    "from tensorflow_probability.substrates import jax as tfpj\n",
    "\n",
    "import scipy.stats as stats"
   ]
  },
  {
   "cell_type": "markdown",
   "metadata": {},
   "source": [
    "Get a MSA from a set of unaligned sequences by learning the consensus parameters of the profile HMM"
   ]
  },
  {
   "cell_type": "code",
   "execution_count": 4,
   "metadata": {},
   "outputs": [
    {
     "name": "stdout",
     "output_type": "stream",
     "text": [
      "MSA seqs:  15\n",
      "test seq length: 142\n"
     ]
    }
   ],
   "source": [
    "test_seq_id = \"HBA_HUMAN\"\n",
    "\n",
    "sample_seqs = {\n",
    "  'HBA_AEGMO': 'MVLSANDKTNVKTVFTKITGHAEDYGAETLERMFITYPPTKTYFPHFDLHHGSAQIKAHGKKVVGALIEAVNHIDDIAGALSKLSDLHAQKLRVDPVNFKLLGQCFLVVVAIHHPSVLTPEVHASLDKFLCAVGNVLTAKYR',\n",
    "  'HBA_AILFU': 'MVLSPADKTNVKSTWDKLGGHAGEYGGEALERTFASFPTTKTYFPHFDLSPGSAQVKAHGKKVADALTLAVGHLDDLPGALSALSDLHAHKLRVDPVNFKLLSHCLLVTLACHHPAEFTPAVHASLDKFFSAVSTVLTSKYR',\n",
    "  'HBA_ALCAA': 'MVLSATDKSNVKAAWGKVGGNAPAYGAEALERMFLSFPTTKTYFPHFDLSHGSAQVKAHGEKVANALTKAVGHLDDLPGTLSDLSDLHAHKLRVDPVNFKLLSHTLLVTLAAHLPSDFTPAVHASLDKFLANVSTVLTSKYR',\n",
    "  'HBA_ALLMI': 'MVLSMEDKSNVKAIWGKASGHLEEYGAEALERMFCAYPQTKIYFPHFDMSHNSAQIRAHGKKVFSALHEAVNHIDDLPGALCRLSELHAHSLRVDPVNFKFLAHCVLVVFAIHHPSALSPEIHASLDKFLCAVSAVLTSKYR',\n",
    "  'HBA_AMMLE': 'MVLSAADKSNVKAAWGKVGGNAGAYGAEALERMFLSFPTTKTYFPHFDLSHGSAQVKGHGEKVAAALTKAVGHLDDLPGTLSDLSDLHAHKLRVDPVNFKLLSHSLLVTLACHLPNDFTPAVHASLDKFLANVSTVLTSKYR',\n",
    "  'HBA_AQUCH': 'MVLSANDKTNVKNVFTKISGHAEDYGAEALERMFTTYPPTKTYFPHFDLHHGSAQIKAHGKKVVGALIEAVNHIDDMAGALSKLSDLHAQKLRVDPVNFKLLGQCFLVVVAIHHPSVLTPEVHASLDKFLCAVGNVLTAKYR',\n",
    "  'HBA_ATEGE': 'MVLSPADKSNVKAAWGKVGGHAGDYGAEALERMFLSFPTTKTYFPHFDLSHGSAQVKGHGKKVADALTNAVAHVDDMPNALSALSDLHAHKLRVDPVNFKLLSHCLLVTLAAHHPADFTPAVHASLDKFLASVSTVLTSKYR',\n",
    "  'HBA_BISBO': 'MVLSAADKGNVKAAWGKVGGHAAEYGAEALERMFLSFPTTKTYFPHFDLSHGSAQVKGHGAKVAAALTKAVGHLDDLPGALSELSDLHAHKLRVDPVNFKLLSHSLLVTLASHLPNDFTPAVHASLDKFLANVSTVLTSKYR',\n",
    "  'HBA_BOVIN': 'MVLSAADKGNVKAAWGKVGGHAAEYGAEALERMFLSFPTTKTYFPHFDLSHGSAQVKGHGAKVAAALTKAVEHLDDLPGALSELSDLHAHKLRVDPVNFKLLSHSLLVTLASHLPSDFTPAVHASLDKFLANVSTVLTSKYR',\n",
    "  'HBA_BRACA': 'VLSAADKTNVKGVFSKIGGHADEYGAETLERMFVAYPQTKTYFPHFDLQHGSAQIKAHGKKVAAALVEAVNHIDDIAGALSKLSDLHAQKLRVDPVNFKFLGHCFLVVVAIHHPSALTPEVHASLDKFLCAVGTVLTAKYR',\n",
    "  'HBA_CANLF': 'VLSPADKTNIKSTWDKIGGHAGDYGGEALDRTFQSFPTTKTYFPHFDLSPGSAQVKAHGKKVADALTTAVAHLDDLPGALSALSDLHAYKLRVDPVNFKLLSHCLLVTLACHHPTEFTPAVHASLDKFFAAVSTVLTSKYR',\n",
    "  'HBA_CARAU': 'SLSDKDKAVVKALWAKIGSRADEIGAEALGRMLTVYPQTKTYFSHWSDLSPGSGPVKKHGKTIMGAVGDAVSKIDDLVGALSALSELHAFKLRIDPANFKILAHNVIVVIGMLFPGDFTPEVHMSVDKFFQNLALALSEKYR',\n",
    "  'HBA_CAVPO': 'MVLSAADKNNVKTTWDKIGGHAAEYVAEGLTRMFTSFPTTKTYFHHIDVSPGSGDIKAHGKKVADALTTAVGHLDDLPTALSTLSDVHAHKLRVDPVNFKFLNHCLLVTLAAHLGADFTPSIHASLDKFFASVSTVLTSKYR',\n",
    "  'HBA_CHICK': 'MVLSAADKNNVKGIFTKIAGHAEEYGAETLERMFTTYPPTKTYFPHFDLSHGSAQIKGHGKKVVAALIEAANHIDDIAGTLSKLSDLHAHKLRVDPVNFKLLGQCFLVVVAIHHPAALTPEVHASLDKFLCAVGTVLTAKYR',\n",
    "  'HBA_HORSE': 'MVLSAADKTNVKAAWSKVGGHAGEYGAEALERMFLGFPTTKTYFPHFDLSHGSAQVKAHGKKVGDALTLAVGHLDDLPGALSNLSDLHAHKLRVDPVNFKLLSHCLLSTLAVHLPNDFTPAVHASLDKFLSSVSTVLTSKYR',\n",
    "  'HBA_HUMAN': 'MVLSPADKTNVKAAWGKVGAHAGEYGAEALERMFLSFPTTKTYFPHFDLSHGSAQVKGHGKKVADALTNAVAHVDDMPNALSALSDLHAHKLRVDPVNFKLLSHCLLVTLAAHLPAEFTPAVHASLDKFLASVSTVLTSKYR'\n",
    "}\n",
    "unaligned_seqs = [v for k,v in sample_seqs.items() if k != test_seq_id]\n",
    "test_seq = sample_seqs[test_seq_id]\n",
    "print('MSA seqs: ', len(unaligned_seqs)) \n",
    "print('test seq length:', len(test_seq))"
   ]
  },
  {
   "cell_type": "code",
   "execution_count": 6,
   "metadata": {},
   "outputs": [
    {
     "data": {
      "text/plain": [
       "21"
      ]
     },
     "execution_count": 6,
     "metadata": {},
     "output_type": "execute_result"
    }
   ],
   "source": [
    "# all amino acids + gap\n",
    "vocab = 'ARNDCQEGHILKMFPSTWYV-'\n",
    "n_vocab = len(vocab)\n",
    "n_vocab"
   ]
  },
  {
   "cell_type": "code",
   "execution_count": 7,
   "metadata": {},
   "outputs": [
    {
     "data": {
      "text/plain": [
       "3"
      ]
     },
     "execution_count": 7,
     "metadata": {},
     "output_type": "execute_result"
    }
   ],
   "source": [
    "states = 'MID'  # Match, Insert, Delete\n",
    "n_states = len(states)\n",
    "n_states"
   ]
  },
  {
   "cell_type": "markdown",
   "metadata": {},
   "source": [
    "#### Gradient descent"
   ]
  },
  {
   "cell_type": "code",
   "execution_count": 8,
   "metadata": {},
   "outputs": [
    {
     "data": {
      "text/plain": [
       "(ParamsCategoricalHMM(initial=ParamsStandardHMMInitialState(probs=Array([0.21115594, 0.6283457 , 0.16049828], dtype=float32)), transitions=ParamsStandardHMMTransitions(transition_matrix=Array([[0.44149017, 0.30103576, 0.257474  ],\n",
       "        [0.01715945, 0.32746994, 0.6553706 ],\n",
       "        [0.12272572, 0.10252184, 0.77475244]], dtype=float32)), emissions=ParamsCategoricalHMMEmissions(probs=Array([[[0.00886245, 0.02676938, 0.0558548 , 0.07991356, 0.01317011,\n",
       "          0.00257393, 0.02607093, 0.01364831, 0.05251984, 0.06331246,\n",
       "          0.16337217, 0.01088525, 0.05258397, 0.05338747, 0.02124663,\n",
       "          0.04021688, 0.03417913, 0.02328008, 0.14380595, 0.09843415,\n",
       "          0.01591237]],\n",
       " \n",
       "        [[0.03102212, 0.03003852, 0.01944453, 0.03899414, 0.03831979,\n",
       "          0.01327157, 0.08538215, 0.05602564, 0.01902615, 0.06713416,\n",
       "          0.00358675, 0.23546287, 0.01309458, 0.08970489, 0.07291738,\n",
       "          0.06335647, 0.01522192, 0.01848631, 0.00524298, 0.00998701,\n",
       "          0.07428014]],\n",
       " \n",
       "        [[0.0863605 , 0.00477391, 0.00713603, 0.03567691, 0.2075253 ,\n",
       "          0.01166522, 0.00353126, 0.01349199, 0.02915476, 0.00833659,\n",
       "          0.03848395, 0.02537655, 0.0590394 , 0.01496144, 0.05510169,\n",
       "          0.01981554, 0.09637575, 0.01679076, 0.03229328, 0.107256  ,\n",
       "          0.12685327]]], dtype=float32))),\n",
       " ParamsCategoricalHMM(initial=ParamsStandardHMMInitialState(probs=ParameterProperties(trainable=True, constrainer=tfp.bijectors.SoftmaxCentered(\"softmax_centered\", batch_shape=[], min_event_ndims=1))), transitions=ParamsStandardHMMTransitions(transition_matrix=ParameterProperties(trainable=True, constrainer=tfp.bijectors.SoftmaxCentered(\"softmax_centered\", batch_shape=[], min_event_ndims=1))), emissions=ParamsCategoricalHMMEmissions(probs=ParameterProperties(trainable=True, constrainer=tfp.bijectors.SoftmaxCentered(\"softmax_centered\", batch_shape=[], min_event_ndims=1)))))"
      ]
     },
     "execution_count": 8,
     "metadata": {},
     "output_type": "execute_result"
    }
   ],
   "source": [
    "hmm = CategoricalHMM(num_states=n_states, emission_dim=1, num_classes=n_vocab)\n",
    "\n",
    "# Initialize the model\n",
    "key = jax.random.PRNGKey(0)\n",
    "params, props = hmm.initialize(key)\n",
    "params, props"
   ]
  },
  {
   "cell_type": "code",
   "execution_count": null,
   "metadata": {},
   "outputs": [],
   "source": []
  }
 ],
 "metadata": {
  "kernelspec": {
   "display_name": "base",
   "language": "python",
   "name": "python3"
  },
  "language_info": {
   "codemirror_mode": {
    "name": "ipython",
    "version": 3
   },
   "file_extension": ".py",
   "mimetype": "text/x-python",
   "name": "python",
   "nbconvert_exporter": "python",
   "pygments_lexer": "ipython3",
   "version": "3.12.3"
  }
 },
 "nbformat": 4,
 "nbformat_minor": 2
}
