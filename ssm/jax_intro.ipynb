{
 "cells": [
  {
   "cell_type": "code",
   "execution_count": 4,
   "metadata": {},
   "outputs": [
    {
     "name": "stdout",
     "output_type": "stream",
     "text": [
      "{ lambda ; a:f32[3] b:f32[]. let\n",
      "    c:f32[3] = mul a b\n",
      "    d:f32[3] = exp c\n",
      "    e:f32[] = reduce_sum[axes=(0,)] d\n",
      "    f:f32[3] = div d e\n",
      "  in (f,) }\n"
     ]
    }
   ],
   "source": [
    "# jaxpr\n",
    "\n",
    "from jax import make_jaxpr\n",
    "import jax.numpy as jnp\n",
    "\n",
    "def softmax(x, c=1):\n",
    "    x = x * c\n",
    "    x = jnp.exp(x)\n",
    "    return x / jnp.sum(x)\n",
    "\n",
    "jaxpr = make_jaxpr(softmax)(jnp.array([1., 2., 3.]), jnp.float32(10.))\n",
    "print(jaxpr)\n"
   ]
  },
  {
   "cell_type": "code",
   "execution_count": 12,
   "metadata": {},
   "outputs": [
    {
     "name": "stdout",
     "output_type": "stream",
     "text": [
      "10.0 20.0\n",
      "{ lambda ; a:f32[]. let\n",
      "    b:f32[] = integer_pow[y=3] a\n",
      "    c:f32[] = mul 4.0 b\n",
      "    d:f32[] = integer_pow[y=2] a\n",
      "    e:f32[] = mul 3.0 d\n",
      "    f:f32[] = add c e\n",
      "    g:f32[] = mul 2.0 a\n",
      "    h:f32[] = add f g\n",
      "    i:f32[] = add h 1.0\n",
      "  in (i,) }\n",
      "{ lambda ; a:f32[]. let\n",
      "    b:f32[] = integer_pow[y=3] a\n",
      "    c:f32[] = integer_pow[y=2] a\n",
      "    d:f32[] = mul 3.0 c\n",
      "    e:f32[] = mul 4.0 b\n",
      "    f:f32[] = integer_pow[y=2] a\n",
      "    g:f32[] = integer_pow[y=1] a\n",
      "    h:f32[] = mul 2.0 g\n",
      "    i:f32[] = mul 3.0 f\n",
      "    j:f32[] = add e i\n",
      "    k:f32[] = mul 2.0 a\n",
      "    l:f32[] = add j k\n",
      "    _:f32[] = add l 1.0\n",
      "    m:f32[] = mul 2.0 1.0\n",
      "    n:f32[] = mul 3.0 1.0\n",
      "    o:f32[] = mul n h\n",
      "    p:f32[] = add_any m o\n",
      "    q:f32[] = mul 4.0 1.0\n",
      "    r:f32[] = mul q d\n",
      "    s:f32[] = add_any p r\n",
      "  in (s,) }\n"
     ]
    }
   ],
   "source": [
    "# functional transformations\n",
    "\n",
    "# grad\n",
    "from jax import grad\n",
    "\n",
    "def f(x):\n",
    "  return 4.0 * x ** 3 + 3.0 * x ** 2 + 2.0 * x + 1.0\n",
    "\n",
    "print(f(1.0), grad(f)(1.0))\n",
    "\n",
    "print(make_jaxpr(f)(1.0))\n",
    "print(make_jaxpr(grad(f))(1.0))\n"
   ]
  },
  {
   "cell_type": "code",
   "execution_count": 17,
   "metadata": {},
   "outputs": [
    {
     "name": "stdout",
     "output_type": "stream",
     "text": [
      "0.0\n",
      "0.0\n",
      "0.0\n"
     ]
    }
   ],
   "source": [
    "# jit\n",
    "from jax import jit\n",
    "\n",
    "def relu1(x):\n",
    "  if x > 0:\n",
    "    return x\n",
    "  else:\n",
    "    return 0.\n",
    "  \n",
    "def relu2(x):\n",
    "  return jnp.where(x > 0, x, 0)\n",
    "\n",
    "x = -1.0\n",
    "\n",
    "print(relu1(x))\n",
    "print(relu2(x))\n",
    "\n",
    "jrelu1 = jit(relu1)\n",
    "jrelu2 = jit(relu2)\n",
    "\n",
    "# print(jrelu1(x))\n",
    "print(jrelu2(x))\n"
   ]
  },
  {
   "cell_type": "code",
   "execution_count": null,
   "metadata": {},
   "outputs": [],
   "source": []
  }
 ],
 "metadata": {
  "kernelspec": {
   "display_name": "base",
   "language": "python",
   "name": "python3"
  },
  "language_info": {
   "codemirror_mode": {
    "name": "ipython",
    "version": 3
   },
   "file_extension": ".py",
   "mimetype": "text/x-python",
   "name": "python",
   "nbconvert_exporter": "python",
   "pygments_lexer": "ipython3",
   "version": "3.12.3"
  }
 },
 "nbformat": 4,
 "nbformat_minor": 2
}
